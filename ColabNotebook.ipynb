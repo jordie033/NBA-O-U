{
  "cells": [
    {
      "cell_type": "markdown",
      "metadata": {
        "id": "view-in-github",
        "colab_type": "text"
      },
      "source": [
        "<a href=\"https://colab.research.google.com/github/jordie033/NBA-O-U/blob/main/ColabNotebook.ipynb\" target=\"_parent\"><img src=\"https://colab.research.google.com/assets/colab-badge.svg\" alt=\"Open In Colab\"/></a>"
      ]
    },
    {
      "cell_type": "markdown",
      "metadata": {
        "id": "84FCh7pFCA2U"
      },
      "source": [
        "You could use this notebook on [Google Colab](https://colab.research.google.com/) with a GPU Hardware Accelerator runtype."
      ]
    },
    {
      "cell_type": "markdown",
      "metadata": {
        "id": "aBeeVTbb_WLL"
      },
      "source": [
        "# Bootstrap Model\n"
      ]
    },
    {
      "cell_type": "code",
      "execution_count": null,
      "metadata": {
        "id": "cEOhYxk-ASjw"
      },
      "outputs": [],
      "source": [
        "#Remove Preexisting Files\n",
        "! rm -rf NBA-Machine-Learning-Sports-Betting\n",
        "! rm -rf *\n",
        "\n",
        "#Bootstrap Files\n",
        "! git clone https://github.com/kyleskom/NBA-Machine-Learning-Sports-Betting.git\n",
        "! mv -v ./NBA-Machine-Learning-Sports-Betting/* .\n",
        "\n",
        "#For some reason pip3 install -r requirements.txt doesn't work on Colab\n",
        "! pip3 install colorama==0.4.6\n",
        "! pip3 install sbrscrape==0.0.10\n",
        "! pip3 install pandas==2.1.1\n",
        "! pip3 install tensorflow==2.14.0\n",
        "! pip3 install xgboost==2.0.0\n"
      ]
    },
    {
      "cell_type": "markdown",
      "metadata": {
        "id": "Wurq7KgC_ckH"
      },
      "source": [
        "# Run Model\n"
      ]
    },
    {
      "cell_type": "code",
      "execution_count": 23,
      "metadata": {
        "id": "QBu_ZuXvNgqR",
        "colab": {
          "base_uri": "https://localhost:8080/"
        },
        "outputId": "ba435906-1a9c-4a60-918a-77957e231ee7"
      },
      "outputs": [
        {
          "output_type": "stream",
          "name": "stdout",
          "text": [
            "2023-12-15 16:24:54.512106: I tensorflow/tsl/cuda/cudart_stub.cc:28] Could not find cuda drivers on your machine, GPU will not be used.\n",
            "2023-12-15 16:24:54.557336: E tensorflow/compiler/xla/stream_executor/cuda/cuda_dnn.cc:9342] Unable to register cuDNN factory: Attempting to register factory for plugin cuDNN when one has already been registered\n",
            "2023-12-15 16:24:54.557398: E tensorflow/compiler/xla/stream_executor/cuda/cuda_fft.cc:609] Unable to register cuFFT factory: Attempting to register factory for plugin cuFFT when one has already been registered\n",
            "2023-12-15 16:24:54.557443: E tensorflow/compiler/xla/stream_executor/cuda/cuda_blas.cc:1518] Unable to register cuBLAS factory: Attempting to register factory for plugin cuBLAS when one has already been registered\n",
            "2023-12-15 16:24:54.566829: I tensorflow/tsl/cuda/cudart_stub.cc:28] Could not find cuda drivers on your machine, GPU will not be used.\n",
            "2023-12-15 16:24:54.567134: I tensorflow/core/platform/cpu_feature_guard.cc:182] This TensorFlow binary is optimized to use available CPU instructions in performance-critical operations.\n",
            "To enable the following instructions: AVX2 AVX512F FMA, in other operations, rebuild TensorFlow with the appropriate compiler flags.\n",
            "2023-12-15 16:24:55.692113: W tensorflow/compiler/tf2tensorrt/utils/py_utils.cc:38] TF-TRT Warning: Could not find TensorRT\n",
            "2023-12-15 16:24:57.037369: I tensorflow/compiler/xla/stream_executor/cuda/cuda_gpu_executor.cc:894] successful NUMA node read from SysFS had negative value (-1), but there must be at least one NUMA node, so returning NUMA node zero. See more at https://github.com/torvalds/linux/blob/v6.0/Documentation/ABI/testing/sysfs-bus-pci#L344-L355\n",
            "2023-12-15 16:24:57.087303: W tensorflow/core/common_runtime/gpu/gpu_device.cc:2211] Cannot dlopen some GPU libraries. Please make sure the missing libraries mentioned above are installed properly if you would like to use GPU. Follow the guide at https://www.tensorflow.org/install/gpu for how to download and setup the required libraries for your platform.\n",
            "Skipping registering GPU devices...\n",
            "------------------fanduel odds data------------------\n",
            "New Orleans Pelicans (-295) @ Charlotte Hornets (240)\n",
            "Detroit Pistons (830) @ Philadelphia 76ers (-1400)\n",
            "Indiana Pacers (-340) @ Washington Wizards (275)\n",
            "Orlando Magic (190) @ Boston Celtics (-230)\n",
            "Atlanta Hawks (106) @ Toronto Raptors (-124)\n",
            "Los Angeles Lakers (-300) @ San Antonio Spurs (245)\n",
            "Houston Rockets (-154) @ Memphis Grizzlies (130)\n",
            "New York Knicks (166) @ Phoenix Suns (-198)\n",
            "---------------XGBoost Model Predictions---------------\n",
            "\u001b[31mCharlotte Hornets\u001b[0m vs \u001b[32mNew Orleans Pelicans\u001b[0m\u001b[36m (62.7%)\u001b[0m: \u001b[34mOVER \u001b[0m231.5\u001b[0m\u001b[36m (54.1%)\u001b[0m\n",
            "\u001b[32mPhiladelphia 76ers\u001b[0m\u001b[36m (81.4%)\u001b[0m vs \u001b[31mDetroit Pistons\u001b[0m: \u001b[35mUNDER \u001b[0m234.5\u001b[0m\u001b[36m (82.7%)\u001b[0m\n",
            "\u001b[31mWashington Wizards\u001b[0m vs \u001b[32mIndiana Pacers\u001b[0m\u001b[36m (57.8%)\u001b[0m: \u001b[35mUNDER \u001b[0m259.5\u001b[0m\u001b[36m (58.4%)\u001b[0m\n",
            "\u001b[32mBoston Celtics\u001b[0m\u001b[36m (69.3%)\u001b[0m vs \u001b[31mOrlando Magic\u001b[0m: \u001b[34mOVER \u001b[0m224\u001b[0m\u001b[36m (85.6%)\u001b[0m\n",
            "\u001b[32mToronto Raptors\u001b[0m\u001b[36m (50.0%)\u001b[0m vs \u001b[31mAtlanta Hawks\u001b[0m: \u001b[35mUNDER \u001b[0m241\u001b[0m\u001b[36m (64.5%)\u001b[0m\n",
            "\u001b[31mSan Antonio Spurs\u001b[0m vs \u001b[32mLos Angeles Lakers\u001b[0m\u001b[36m (67.3%)\u001b[0m: \u001b[35mUNDER \u001b[0m234\u001b[0m\u001b[36m (50.3%)\u001b[0m\n",
            "\u001b[31mMemphis Grizzlies\u001b[0m vs \u001b[32mHouston Rockets\u001b[0m\u001b[36m (70.4%)\u001b[0m: \u001b[35mUNDER \u001b[0m212\u001b[0m\u001b[36m (66.2%)\u001b[0m\n",
            "\u001b[32mPhoenix Suns\u001b[0m\u001b[36m (53.3%)\u001b[0m vs \u001b[31mNew York Knicks\u001b[0m: \u001b[34mOVER \u001b[0m231.5\u001b[0m\u001b[36m (86.1%)\u001b[0m\n",
            "---------------------Expected Value--------------------\n",
            "Charlotte Hornets EV: \u001b[32m26.83\u001b[0m\n",
            "New Orleans Pelicans EV: \u001b[31m-16.05\u001b[0m\n",
            "Philadelphia 76ers EV: \u001b[31m-12.8\u001b[0m\n",
            "Detroit Pistons EV: \u001b[32m73.14\u001b[0m\n",
            "Washington Wizards EV: \u001b[32m58.32\u001b[0m\n",
            "Indiana Pacers EV: \u001b[31m-25.22\u001b[0m\n",
            "Boston Celtics EV: \u001b[31m-0.63\u001b[0m\n",
            "Orlando Magic EV: \u001b[31m-10.85\u001b[0m\n",
            "Toronto Raptors EV: \u001b[31m-9.63\u001b[0m\n",
            "Atlanta Hawks EV: \u001b[32m2.94\u001b[0m\n",
            "San Antonio Spurs EV: \u001b[32m12.73\u001b[0m\n",
            "Los Angeles Lakers EV: \u001b[31m-10.23\u001b[0m\n",
            "Memphis Grizzlies EV: \u001b[31m-31.84\u001b[0m\n",
            "Houston Rockets EV: \u001b[32m16.06\u001b[0m\n",
            "Phoenix Suns EV: \u001b[31m-19.72\u001b[0m\n",
            "New York Knicks EV: \u001b[32m24.12\u001b[0m\n",
            "-------------------------------------------------------\n",
            "\u001b[0m"
          ]
        }
      ],
      "source": [
        "! python3 main.py -xgb -odds=fanduel"
      ]
    },
    {
      "source": [
        "from sklearn.model_selection import GridSearchCV\n",
        "from sklearn.linear_model import LinearRegression\n",
        "\n",
        "\n",
        "model = GridSearchCV(LinearRegression(), {'alpha': [0.1, 0.5, 1.0]})\n",
        "\n",
        "model.fit(X, y)\n",
        "\n",
        "# Export the results of the model to a PDF file.\n",
        "model.export_report('report.pdf')\n"
      ],
      "cell_type": "code",
      "metadata": {
        "colab": {
          "base_uri": "https://localhost:8080/",
          "height": 245
        },
        "id": "RFOPrXS8Pehl",
        "outputId": "32f3abd7-7568-4af8-aae6-c50509fd7ce6"
      },
      "execution_count": 26,
      "outputs": [
        {
          "output_type": "error",
          "ename": "NameError",
          "evalue": "ignored",
          "traceback": [
            "\u001b[0;31m---------------------------------------------------------------------------\u001b[0m",
            "\u001b[0;31mNameError\u001b[0m                                 Traceback (most recent call last)",
            "\u001b[0;32m<ipython-input-26-6a88d32f3325>\u001b[0m in \u001b[0;36m<cell line: 7>\u001b[0;34m()\u001b[0m\n\u001b[1;32m      5\u001b[0m \u001b[0mmodel\u001b[0m \u001b[0;34m=\u001b[0m \u001b[0mGridSearchCV\u001b[0m\u001b[0;34m(\u001b[0m\u001b[0mLinearRegression\u001b[0m\u001b[0;34m(\u001b[0m\u001b[0;34m)\u001b[0m\u001b[0;34m,\u001b[0m \u001b[0;34m{\u001b[0m\u001b[0;34m'alpha'\u001b[0m\u001b[0;34m:\u001b[0m \u001b[0;34m[\u001b[0m\u001b[0;36m0.1\u001b[0m\u001b[0;34m,\u001b[0m \u001b[0;36m0.5\u001b[0m\u001b[0;34m,\u001b[0m \u001b[0;36m1.0\u001b[0m\u001b[0;34m]\u001b[0m\u001b[0;34m}\u001b[0m\u001b[0;34m)\u001b[0m\u001b[0;34m\u001b[0m\u001b[0;34m\u001b[0m\u001b[0m\n\u001b[1;32m      6\u001b[0m \u001b[0;34m\u001b[0m\u001b[0m\n\u001b[0;32m----> 7\u001b[0;31m \u001b[0mmodel\u001b[0m\u001b[0;34m.\u001b[0m\u001b[0mfit\u001b[0m\u001b[0;34m(\u001b[0m\u001b[0mX\u001b[0m\u001b[0;34m,\u001b[0m \u001b[0my\u001b[0m\u001b[0;34m)\u001b[0m\u001b[0;34m\u001b[0m\u001b[0;34m\u001b[0m\u001b[0m\n\u001b[0m\u001b[1;32m      8\u001b[0m \u001b[0;34m\u001b[0m\u001b[0m\n\u001b[1;32m      9\u001b[0m \u001b[0;31m# Export the results of the model to a PDF file.\u001b[0m\u001b[0;34m\u001b[0m\u001b[0;34m\u001b[0m\u001b[0m\n",
            "\u001b[0;31mNameError\u001b[0m: name 'X' is not defined"
          ]
        }
      ]
    }
  ],
  "metadata": {
    "accelerator": "GPU",
    "colab": {
      "provenance": [],
      "include_colab_link": true
    },
    "gpuClass": "standard",
    "kernelspec": {
      "display_name": "Python 3",
      "name": "python3"
    },
    "language_info": {
      "name": "python"
    }
  },
  "nbformat": 4,
  "nbformat_minor": 0
}